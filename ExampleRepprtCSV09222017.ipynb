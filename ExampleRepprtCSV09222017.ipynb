{
 "cells": [
  {
   "cell_type": "markdown",
   "metadata": {},
   "source": [
    "example\n"
   ]
  },
  {
   "cell_type": "code",
   "execution_count": 43,
   "metadata": {},
   "outputs": [
    {
     "data": {
      "text/html": [
       "<div>\n",
       "<style>\n",
       "    .dataframe thead tr:only-child th {\n",
       "        text-align: right;\n",
       "    }\n",
       "\n",
       "    .dataframe thead th {\n",
       "        text-align: left;\n",
       "    }\n",
       "\n",
       "    .dataframe tbody tr th {\n",
       "        vertical-align: top;\n",
       "    }\n",
       "</style>\n",
       "<table border=\"1\" class=\"dataframe\">\n",
       "  <thead>\n",
       "    <tr style=\"text-align: right;\">\n",
       "      <th></th>\n",
       "      <th>Name</th>\n",
       "      <th>Job</th>\n",
       "      <th>Dept</th>\n",
       "      <th>FullorPart</th>\n",
       "      <th>Salary</th>\n",
       "    </tr>\n",
       "  </thead>\n",
       "  <tbody>\n",
       "    <tr>\n",
       "      <th>0</th>\n",
       "      <td>Name</td>\n",
       "      <td>Title</td>\n",
       "      <td>Depart</td>\n",
       "      <td>ForP</td>\n",
       "      <td>Salary</td>\n",
       "    </tr>\n",
       "    <tr>\n",
       "      <th>1</th>\n",
       "      <td>EVANS,  GINGER S</td>\n",
       "      <td>COMMISSIONER OF AVIATION</td>\n",
       "      <td>AVIATION</td>\n",
       "      <td>Fulltime</td>\n",
       "      <td>$300,000.00</td>\n",
       "    </tr>\n",
       "    <tr>\n",
       "      <th>2</th>\n",
       "      <td>JOHNSON,  EDDIE T</td>\n",
       "      <td>SUPERINTENDENT OF POLICE</td>\n",
       "      <td>POLICE</td>\n",
       "      <td>Fulltime</td>\n",
       "      <td>$260,004.00</td>\n",
       "    </tr>\n",
       "    <tr>\n",
       "      <th>3</th>\n",
       "      <td>EMANUEL,  RAHM</td>\n",
       "      <td>MAYOR</td>\n",
       "      <td>MAYOR'S OFFICE</td>\n",
       "      <td>Fulltime</td>\n",
       "      <td>$216,210.00</td>\n",
       "    </tr>\n",
       "    <tr>\n",
       "      <th>4</th>\n",
       "      <td>SANTIAGO,  JOSE A</td>\n",
       "      <td>FIRE COMMISSIONER</td>\n",
       "      <td>FIRE</td>\n",
       "      <td>Fulltime</td>\n",
       "      <td>$202,728.00</td>\n",
       "    </tr>\n",
       "    <tr>\n",
       "      <th>5</th>\n",
       "      <td>FORD II,  RICHARD C</td>\n",
       "      <td>FIRST DEPUTY FIRE COMMISSIONER</td>\n",
       "      <td>FIRE</td>\n",
       "      <td>Fulltime</td>\n",
       "      <td>$197,736.00</td>\n",
       "    </tr>\n",
       "    <tr>\n",
       "      <th>6</th>\n",
       "      <td>NAVARRO,  KEVIN B</td>\n",
       "      <td>FIRST DEPUTY SUPERINTENDENT</td>\n",
       "      <td>POLICE</td>\n",
       "      <td>Fulltime</td>\n",
       "      <td>$197,724.00</td>\n",
       "    </tr>\n",
       "    <tr>\n",
       "      <th>7</th>\n",
       "      <td>DEAL,  AARON J</td>\n",
       "      <td>CHIEF OF STAFF</td>\n",
       "      <td>MAYOR'S OFFICE</td>\n",
       "      <td>Fulltime</td>\n",
       "      <td>$195,000.00</td>\n",
       "    </tr>\n",
       "    <tr>\n",
       "      <th>8</th>\n",
       "      <td>CALLAHAN,  MICHAEL E</td>\n",
       "      <td>DEPUTY FIRE COMMISSIONER</td>\n",
       "      <td>FIRE</td>\n",
       "      <td>Fulltime</td>\n",
       "      <td>$187,680.00</td>\n",
       "    </tr>\n",
       "    <tr>\n",
       "      <th>9</th>\n",
       "      <td>GRAY JR,  ARRIEL</td>\n",
       "      <td>DEPUTY FIRE COMMISSIONER</td>\n",
       "      <td>FIRE</td>\n",
       "      <td>Fulltime</td>\n",
       "      <td>$187,680.00</td>\n",
       "    </tr>\n",
       "    <tr>\n",
       "      <th>10</th>\n",
       "      <td>NIELSEN,  MARK A</td>\n",
       "      <td>DEPUTY FIRE COMMISSIONER</td>\n",
       "      <td>FIRE</td>\n",
       "      <td>Fulltime</td>\n",
       "      <td>$187,680.00</td>\n",
       "    </tr>\n",
       "    <tr>\n",
       "      <th>11</th>\n",
       "      <td>VASQUEZ,  ANTHONY P</td>\n",
       "      <td>DEPUTY FIRE COMMISSIONER</td>\n",
       "      <td>FIRE</td>\n",
       "      <td>Fulltime</td>\n",
       "      <td>$187,680.00</td>\n",
       "    </tr>\n",
       "    <tr>\n",
       "      <th>12</th>\n",
       "      <td>RICCIO,  ANTHONY J</td>\n",
       "      <td>CHIEF</td>\n",
       "      <td>POLICE</td>\n",
       "      <td>Fulltime</td>\n",
       "      <td>$185,364.00</td>\n",
       "    </tr>\n",
       "    <tr>\n",
       "      <th>13</th>\n",
       "      <td>STAPLES,  MELISSA A</td>\n",
       "      <td>CHIEF</td>\n",
       "      <td>POLICE</td>\n",
       "      <td>Fulltime</td>\n",
       "      <td>$185,364.00</td>\n",
       "    </tr>\n",
       "    <tr>\n",
       "      <th>14</th>\n",
       "      <td>WALLER,  FRED L</td>\n",
       "      <td>CHIEF</td>\n",
       "      <td>POLICE</td>\n",
       "      <td>Fulltime</td>\n",
       "      <td>$185,364.00</td>\n",
       "    </tr>\n",
       "    <tr>\n",
       "      <th>15</th>\n",
       "      <td>WELCH III,  EDDIE L</td>\n",
       "      <td>CHIEF</td>\n",
       "      <td>POLICE</td>\n",
       "      <td>Fulltime</td>\n",
       "      <td>$185,364.00</td>\n",
       "    </tr>\n",
       "    <tr>\n",
       "      <th>16</th>\n",
       "      <td>WEST,  BARBARA J</td>\n",
       "      <td>CHIEF</td>\n",
       "      <td>POLICE</td>\n",
       "      <td>Fulltime</td>\n",
       "      <td>$185,364.00</td>\n",
       "    </tr>\n",
       "    <tr>\n",
       "      <th>17</th>\n",
       "      <td>FOX,  MICHAEL W</td>\n",
       "      <td>ASST DEPUTY FIRE COMMISSIONER</td>\n",
       "      <td>FIRE</td>\n",
       "      <td>Fulltime</td>\n",
       "      <td>$185,352.00</td>\n",
       "    </tr>\n",
       "    <tr>\n",
       "      <th>18</th>\n",
       "      <td>SAMPEY,  TIMOTHY T</td>\n",
       "      <td>ASST DEPUTY FIRE COMMISSIONER</td>\n",
       "      <td>FIRE</td>\n",
       "      <td>Fulltime</td>\n",
       "      <td>$185,352.00</td>\n",
       "    </tr>\n",
       "    <tr>\n",
       "      <th>19</th>\n",
       "      <td>SHERIDAN,  MARY L</td>\n",
       "      <td>ASST DEPUTY FIRE COMMISSIONER</td>\n",
       "      <td>FIRE</td>\n",
       "      <td>Fulltime</td>\n",
       "      <td>$185,352.00</td>\n",
       "    </tr>\n",
       "    <tr>\n",
       "      <th>20</th>\n",
       "      <td>VOGT,  WILLIAM C</td>\n",
       "      <td>ASST DEPUTY FIRE COMMISSIONER</td>\n",
       "      <td>FIRE</td>\n",
       "      <td>Fulltime</td>\n",
       "      <td>$185,352.00</td>\n",
       "    </tr>\n",
       "    <tr>\n",
       "      <th>21</th>\n",
       "      <td>ZOPP,  ANDREA L</td>\n",
       "      <td>DEPUTY CHIEF OF STAFF</td>\n",
       "      <td>MAYOR'S OFFICE</td>\n",
       "      <td>Fulltime</td>\n",
       "      <td>$185,004.00</td>\n",
       "    </tr>\n",
       "    <tr>\n",
       "      <th>22</th>\n",
       "      <td>KIRKPATRICK,  ANNE</td>\n",
       "      <td>CHIEF</td>\n",
       "      <td>POLICE</td>\n",
       "      <td>Fulltime</td>\n",
       "      <td>$185,000.04</td>\n",
       "    </tr>\n",
       "    <tr>\n",
       "      <th>23</th>\n",
       "      <td>RENDINA,  MICHAEL</td>\n",
       "      <td>ASST TO THE MAYOR</td>\n",
       "      <td>MAYOR'S OFFICE</td>\n",
       "      <td>Fulltime</td>\n",
       "      <td>$180,000.00</td>\n",
       "    </tr>\n",
       "    <tr>\n",
       "      <th>24</th>\n",
       "      <td>MORITA,  JULIA Y</td>\n",
       "      <td>COMMISSIONER OF HEALTH</td>\n",
       "      <td>HEALTH</td>\n",
       "      <td>Fulltime</td>\n",
       "      <td>$177,000.00</td>\n",
       "    </tr>\n",
       "    <tr>\n",
       "      <th>25</th>\n",
       "      <td>REIFMAN,  DAVID</td>\n",
       "      <td>COMMISSIONER OF PLANNING &amp; DEVELOPMENT</td>\n",
       "      <td>COMMUNITY DEVELOPMENT</td>\n",
       "      <td>Fulltime</td>\n",
       "      <td>$175,020.00</td>\n",
       "    </tr>\n",
       "    <tr>\n",
       "      <th>26</th>\n",
       "      <td>DOOLEY,  SUSAN W</td>\n",
       "      <td>FIRST DEPUTY COMMISSIONER</td>\n",
       "      <td>AVIATION</td>\n",
       "      <td>Fulltime</td>\n",
       "      <td>$175,002.00</td>\n",
       "    </tr>\n",
       "    <tr>\n",
       "      <th>27</th>\n",
       "      <td>KURLAND,  SUSAN L</td>\n",
       "      <td>DEPUTY COMMISSIONER</td>\n",
       "      <td>AVIATION</td>\n",
       "      <td>Fulltime</td>\n",
       "      <td>$175,002.00</td>\n",
       "    </tr>\n",
       "    <tr>\n",
       "      <th>28</th>\n",
       "      <td>MORRISON BUTLER,  LISA V</td>\n",
       "      <td>COMMISSIONER OF FAMILY AND SUPPORT SERVICES</td>\n",
       "      <td>FAMILY &amp; SUPPORT</td>\n",
       "      <td>Fulltime</td>\n",
       "      <td>$175,002.00</td>\n",
       "    </tr>\n",
       "    <tr>\n",
       "      <th>29</th>\n",
       "      <td>BOIK,  ROBERT A</td>\n",
       "      <td>SUPERINTENDENT'S CHIEF OF STAFF</td>\n",
       "      <td>POLICE</td>\n",
       "      <td>Fulltime</td>\n",
       "      <td>$174,996.00</td>\n",
       "    </tr>\n",
       "  </tbody>\n",
       "</table>\n",
       "</div>"
      ],
      "text/plain": [
       "                        Name                                          Job  \\\n",
       "0                       Name                                        Title   \n",
       "1           EVANS,  GINGER S                     COMMISSIONER OF AVIATION   \n",
       "2          JOHNSON,  EDDIE T                     SUPERINTENDENT OF POLICE   \n",
       "3            EMANUEL,  RAHM                                         MAYOR   \n",
       "4          SANTIAGO,  JOSE A                            FIRE COMMISSIONER   \n",
       "5        FORD II,  RICHARD C               FIRST DEPUTY FIRE COMMISSIONER   \n",
       "6          NAVARRO,  KEVIN B                  FIRST DEPUTY SUPERINTENDENT   \n",
       "7             DEAL,  AARON J                               CHIEF OF STAFF   \n",
       "8       CALLAHAN,  MICHAEL E                     DEPUTY FIRE COMMISSIONER   \n",
       "9          GRAY JR,  ARRIEL                      DEPUTY FIRE COMMISSIONER   \n",
       "10          NIELSEN,  MARK A                     DEPUTY FIRE COMMISSIONER   \n",
       "11       VASQUEZ,  ANTHONY P                     DEPUTY FIRE COMMISSIONER   \n",
       "12        RICCIO,  ANTHONY J                                        CHIEF   \n",
       "13       STAPLES,  MELISSA A                                        CHIEF   \n",
       "14           WALLER,  FRED L                                        CHIEF   \n",
       "15       WELCH III,  EDDIE L                                        CHIEF   \n",
       "16          WEST,  BARBARA J                                        CHIEF   \n",
       "17           FOX,  MICHAEL W                ASST DEPUTY FIRE COMMISSIONER   \n",
       "18        SAMPEY,  TIMOTHY T                ASST DEPUTY FIRE COMMISSIONER   \n",
       "19         SHERIDAN,  MARY L                ASST DEPUTY FIRE COMMISSIONER   \n",
       "20          VOGT,  WILLIAM C                ASST DEPUTY FIRE COMMISSIONER   \n",
       "21           ZOPP,  ANDREA L                        DEPUTY CHIEF OF STAFF   \n",
       "22       KIRKPATRICK,  ANNE                                         CHIEF   \n",
       "23        RENDINA,  MICHAEL                             ASST TO THE MAYOR   \n",
       "24          MORITA,  JULIA Y                       COMMISSIONER OF HEALTH   \n",
       "25          REIFMAN,  DAVID        COMMISSIONER OF PLANNING & DEVELOPMENT   \n",
       "26          DOOLEY,  SUSAN W                    FIRST DEPUTY COMMISSIONER   \n",
       "27         KURLAND,  SUSAN L                          DEPUTY COMMISSIONER   \n",
       "28  MORRISON BUTLER,  LISA V  COMMISSIONER OF FAMILY AND SUPPORT SERVICES   \n",
       "29           BOIK,  ROBERT A              SUPERINTENDENT'S CHIEF OF STAFF   \n",
       "\n",
       "                     Dept FullorPart        Salary  \n",
       "0                  Depart       ForP        Salary  \n",
       "1                AVIATION   Fulltime  $300,000.00   \n",
       "2                  POLICE   Fulltime  $260,004.00   \n",
       "3          MAYOR'S OFFICE   Fulltime  $216,210.00   \n",
       "4                    FIRE   Fulltime  $202,728.00   \n",
       "5                    FIRE   Fulltime  $197,736.00   \n",
       "6                  POLICE   Fulltime  $197,724.00   \n",
       "7          MAYOR'S OFFICE   Fulltime  $195,000.00   \n",
       "8                    FIRE   Fulltime  $187,680.00   \n",
       "9                    FIRE   Fulltime  $187,680.00   \n",
       "10                   FIRE   Fulltime  $187,680.00   \n",
       "11                   FIRE   Fulltime  $187,680.00   \n",
       "12                 POLICE   Fulltime  $185,364.00   \n",
       "13                 POLICE   Fulltime  $185,364.00   \n",
       "14                 POLICE   Fulltime  $185,364.00   \n",
       "15                 POLICE   Fulltime  $185,364.00   \n",
       "16                 POLICE   Fulltime  $185,364.00   \n",
       "17                   FIRE   Fulltime  $185,352.00   \n",
       "18                   FIRE   Fulltime  $185,352.00   \n",
       "19                   FIRE   Fulltime  $185,352.00   \n",
       "20                   FIRE   Fulltime  $185,352.00   \n",
       "21         MAYOR'S OFFICE   Fulltime  $185,004.00   \n",
       "22                 POLICE   Fulltime  $185,000.04   \n",
       "23         MAYOR'S OFFICE   Fulltime  $180,000.00   \n",
       "24                 HEALTH   Fulltime  $177,000.00   \n",
       "25  COMMUNITY DEVELOPMENT   Fulltime  $175,020.00   \n",
       "26               AVIATION   Fulltime  $175,002.00   \n",
       "27               AVIATION   Fulltime  $175,002.00   \n",
       "28       FAMILY & SUPPORT   Fulltime  $175,002.00   \n",
       "29                 POLICE   Fulltime  $174,996.00   "
      ]
     },
     "execution_count": 43,
     "metadata": {},
     "output_type": "execute_result"
    }
   ],
   "source": [
    "import numpy as np\n",
    "import matplotlib.pyplot as pp\n",
    "import pandas as pd\n",
    "import seaborn\n",
    "#   matplotlib inline\n",
    "open(\"C:/git/chgo/oldChicagoSal.csv\",'r').readlines()[:20]\n",
    "names2017 = pd.read_csv('C:/git/chgo/oldChicagoSal.csv', names = ['Name', 'Job', 'Dept', 'FullorPart', 'Salary'])\n",
    "names2017.head(30)\n",
    "#  pd.pivot_table(names2017, 'Name', 'Job', 'Dept', Salary)\n"
   ]
  },
  {
   "cell_type": "code",
   "execution_count": null,
   "metadata": {
    "collapsed": true
   },
   "outputs": [],
   "source": []
  },
  {
   "cell_type": "code",
   "execution_count": null,
   "metadata": {
    "collapsed": true
   },
   "outputs": [],
   "source": []
  },
  {
   "cell_type": "code",
   "execution_count": null,
   "metadata": {
    "collapsed": true
   },
   "outputs": [],
   "source": []
  },
  {
   "cell_type": "code",
   "execution_count": null,
   "metadata": {
    "collapsed": true
   },
   "outputs": [],
   "source": []
  },
  {
   "cell_type": "code",
   "execution_count": null,
   "metadata": {
    "collapsed": true
   },
   "outputs": [],
   "source": []
  },
  {
   "cell_type": "code",
   "execution_count": null,
   "metadata": {
    "collapsed": true
   },
   "outputs": [],
   "source": []
  },
  {
   "cell_type": "code",
   "execution_count": null,
   "metadata": {
    "collapsed": true
   },
   "outputs": [],
   "source": []
  },
  {
   "cell_type": "code",
   "execution_count": null,
   "metadata": {
    "collapsed": true
   },
   "outputs": [],
   "source": []
  },
  {
   "cell_type": "code",
   "execution_count": null,
   "metadata": {
    "collapsed": true
   },
   "outputs": [],
   "source": []
  },
  {
   "cell_type": "code",
   "execution_count": null,
   "metadata": {
    "collapsed": true
   },
   "outputs": [],
   "source": []
  },
  {
   "cell_type": "code",
   "execution_count": null,
   "metadata": {
    "collapsed": true
   },
   "outputs": [],
   "source": []
  },
  {
   "cell_type": "code",
   "execution_count": null,
   "metadata": {
    "collapsed": true
   },
   "outputs": [],
   "source": []
  },
  {
   "cell_type": "code",
   "execution_count": null,
   "metadata": {
    "collapsed": true
   },
   "outputs": [],
   "source": []
  },
  {
   "cell_type": "code",
   "execution_count": null,
   "metadata": {
    "collapsed": true
   },
   "outputs": [],
   "source": []
  },
  {
   "cell_type": "code",
   "execution_count": null,
   "metadata": {
    "collapsed": true
   },
   "outputs": [],
   "source": []
  },
  {
   "cell_type": "code",
   "execution_count": null,
   "metadata": {
    "collapsed": true
   },
   "outputs": [],
   "source": []
  },
  {
   "cell_type": "code",
   "execution_count": null,
   "metadata": {
    "collapsed": true
   },
   "outputs": [],
   "source": []
  },
  {
   "cell_type": "code",
   "execution_count": null,
   "metadata": {
    "collapsed": true
   },
   "outputs": [],
   "source": []
  },
  {
   "cell_type": "code",
   "execution_count": null,
   "metadata": {
    "collapsed": true
   },
   "outputs": [],
   "source": []
  },
  {
   "cell_type": "code",
   "execution_count": null,
   "metadata": {
    "collapsed": true
   },
   "outputs": [],
   "source": []
  },
  {
   "cell_type": "code",
   "execution_count": null,
   "metadata": {
    "collapsed": true
   },
   "outputs": [],
   "source": []
  },
  {
   "cell_type": "code",
   "execution_count": null,
   "metadata": {
    "collapsed": true
   },
   "outputs": [],
   "source": []
  },
  {
   "cell_type": "code",
   "execution_count": null,
   "metadata": {
    "collapsed": true
   },
   "outputs": [],
   "source": []
  },
  {
   "cell_type": "code",
   "execution_count": null,
   "metadata": {
    "collapsed": true
   },
   "outputs": [],
   "source": []
  },
  {
   "cell_type": "code",
   "execution_count": null,
   "metadata": {
    "collapsed": true
   },
   "outputs": [],
   "source": []
  },
  {
   "cell_type": "code",
   "execution_count": null,
   "metadata": {
    "collapsed": true
   },
   "outputs": [],
   "source": []
  },
  {
   "cell_type": "code",
   "execution_count": null,
   "metadata": {
    "collapsed": true
   },
   "outputs": [],
   "source": []
  },
  {
   "cell_type": "code",
   "execution_count": null,
   "metadata": {
    "collapsed": true
   },
   "outputs": [],
   "source": []
  },
  {
   "cell_type": "code",
   "execution_count": null,
   "metadata": {
    "collapsed": true
   },
   "outputs": [],
   "source": []
  },
  {
   "cell_type": "code",
   "execution_count": null,
   "metadata": {
    "collapsed": true
   },
   "outputs": [],
   "source": []
  },
  {
   "cell_type": "code",
   "execution_count": null,
   "metadata": {
    "collapsed": true
   },
   "outputs": [],
   "source": []
  },
  {
   "cell_type": "code",
   "execution_count": null,
   "metadata": {
    "collapsed": true
   },
   "outputs": [],
   "source": []
  },
  {
   "cell_type": "code",
   "execution_count": null,
   "metadata": {
    "collapsed": true
   },
   "outputs": [],
   "source": []
  },
  {
   "cell_type": "code",
   "execution_count": null,
   "metadata": {
    "collapsed": true
   },
   "outputs": [],
   "source": []
  },
  {
   "cell_type": "code",
   "execution_count": null,
   "metadata": {
    "collapsed": true
   },
   "outputs": [],
   "source": []
  },
  {
   "cell_type": "code",
   "execution_count": null,
   "metadata": {
    "collapsed": true
   },
   "outputs": [],
   "source": []
  },
  {
   "cell_type": "code",
   "execution_count": null,
   "metadata": {
    "collapsed": true
   },
   "outputs": [],
   "source": []
  },
  {
   "cell_type": "code",
   "execution_count": null,
   "metadata": {
    "collapsed": true
   },
   "outputs": [],
   "source": []
  },
  {
   "cell_type": "code",
   "execution_count": null,
   "metadata": {
    "collapsed": true
   },
   "outputs": [],
   "source": []
  },
  {
   "cell_type": "code",
   "execution_count": null,
   "metadata": {
    "collapsed": true
   },
   "outputs": [],
   "source": []
  }
 ],
 "metadata": {
  "kernelspec": {
   "display_name": "Python 3",
   "language": "python",
   "name": "python3"
  },
  "language_info": {
   "codemirror_mode": {
    "name": "ipython",
    "version": 3
   },
   "file_extension": ".py",
   "mimetype": "text/x-python",
   "name": "python",
   "nbconvert_exporter": "python",
   "pygments_lexer": "ipython3",
   "version": "3.6.1"
  }
 },
 "nbformat": 4,
 "nbformat_minor": 2
}
